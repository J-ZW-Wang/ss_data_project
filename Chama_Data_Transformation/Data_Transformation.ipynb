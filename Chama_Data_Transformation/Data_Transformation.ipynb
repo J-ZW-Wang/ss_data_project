{
 "cells": [
  {
   "cell_type": "markdown",
   "metadata": {},
   "source": [
    "Source: https://platform.stratascratch.com/data-projects/data-transformation"
   ]
  },
  {
   "cell_type": "code",
   "execution_count": 2,
   "metadata": {},
   "outputs": [],
   "source": [
    "import numpy as np\n",
    "import pandas as pd"
   ]
  },
  {
   "cell_type": "code",
   "execution_count": 3,
   "metadata": {},
   "outputs": [],
   "source": [
    "raw_json = pd.read_json('./datasets/case.json')"
   ]
  },
  {
   "cell_type": "code",
   "execution_count": 4,
   "metadata": {},
   "outputs": [],
   "source": [
    "CurateOffer = raw_json.query(\"EventName =='CurateOffer_Result'\")"
   ]
  },
  {
   "cell_type": "code",
   "execution_count": 5,
   "metadata": {},
   "outputs": [
    {
     "data": {
      "text/html": [
       "<div>\n",
       "<style scoped>\n",
       "    .dataframe tbody tr th:only-of-type {\n",
       "        vertical-align: middle;\n",
       "    }\n",
       "\n",
       "    .dataframe tbody tr th {\n",
       "        vertical-align: top;\n",
       "    }\n",
       "\n",
       "    .dataframe thead th {\n",
       "        text-align: right;\n",
       "    }\n",
       "</style>\n",
       "<table border=\"1\" class=\"dataframe\">\n",
       "  <thead>\n",
       "    <tr style=\"text-align: right;\">\n",
       "      <th></th>\n",
       "      <th>EnqueuedTimeUtc</th>\n",
       "      <th>EventName</th>\n",
       "      <th>Payload</th>\n",
       "    </tr>\n",
       "  </thead>\n",
       "  <tbody>\n",
       "    <tr>\n",
       "      <th>3</th>\n",
       "      <td>2021-08-25 05:02:55 UTC</td>\n",
       "      <td>CurateOffer_Result</td>\n",
       "      <td>[{\"curationProvider\":\"ByPrice\",\"offerId\":\"149f...</td>\n",
       "    </tr>\n",
       "    <tr>\n",
       "      <th>13</th>\n",
       "      <td>2021-08-25 09:03:29 UTC</td>\n",
       "      <td>CurateOffer_Result</td>\n",
       "      <td>[{\"curationProvider\":\"ByPrice\",\"offerId\":\"c99a...</td>\n",
       "    </tr>\n",
       "    <tr>\n",
       "      <th>15</th>\n",
       "      <td>2021-08-25 05:02:18 UTC</td>\n",
       "      <td>CurateOffer_Result</td>\n",
       "      <td>[{\"curationProvider\":\"ByPrice\",\"offerId\":\"d668...</td>\n",
       "    </tr>\n",
       "    <tr>\n",
       "      <th>17</th>\n",
       "      <td>2021-08-25 09:02:29 UTC</td>\n",
       "      <td>CurateOffer_Result</td>\n",
       "      <td>[{\"curationProvider\":\"ByPrice\",\"offerId\":\"0a06...</td>\n",
       "    </tr>\n",
       "    <tr>\n",
       "      <th>35</th>\n",
       "      <td>2021-08-25 09:03:14 UTC</td>\n",
       "      <td>CurateOffer_Result</td>\n",
       "      <td>[{\"curationProvider\":\"ByPrice\",\"offerId\":\"135d...</td>\n",
       "    </tr>\n",
       "  </tbody>\n",
       "</table>\n",
       "</div>"
      ],
      "text/plain": [
       "            EnqueuedTimeUtc           EventName  \\\n",
       "3   2021-08-25 05:02:55 UTC  CurateOffer_Result   \n",
       "13  2021-08-25 09:03:29 UTC  CurateOffer_Result   \n",
       "15  2021-08-25 05:02:18 UTC  CurateOffer_Result   \n",
       "17  2021-08-25 09:02:29 UTC  CurateOffer_Result   \n",
       "35  2021-08-25 09:03:14 UTC  CurateOffer_Result   \n",
       "\n",
       "                                              Payload  \n",
       "3   [{\"curationProvider\":\"ByPrice\",\"offerId\":\"149f...  \n",
       "13  [{\"curationProvider\":\"ByPrice\",\"offerId\":\"c99a...  \n",
       "15  [{\"curationProvider\":\"ByPrice\",\"offerId\":\"d668...  \n",
       "17  [{\"curationProvider\":\"ByPrice\",\"offerId\":\"0a06...  \n",
       "35  [{\"curationProvider\":\"ByPrice\",\"offerId\":\"135d...  "
      ]
     },
     "execution_count": 5,
     "metadata": {},
     "output_type": "execute_result"
    }
   ],
   "source": [
    "fdsfd.test();lk\n",
    "gfd\n",
    "\n",
    "\n",
    "\n"
   ]
  },
  {
   "cell_type": "code",
   "execution_count": null,
   "metadata": {},
   "outputs": [],
   "source": [
    "fdsfd"
   ]
  }
 ],
 "metadata": {
  "kernelspec": {
   "display_name": "Python 3",
   "language": "python",
   "name": "python3"
  },
  "language_info": {
   "codemirror_mode": {
    "name": "ipython",
    "version": 3
   },
   "file_extension": ".py",
   "mimetype": "text/x-python",
   "name": "python",
   "nbconvert_exporter": "python",
   "pygments_lexer": "ipython3",
   "version": "3.12.5"
  }
 },
 "nbformat": 4,
 "nbformat_minor": 2
}
