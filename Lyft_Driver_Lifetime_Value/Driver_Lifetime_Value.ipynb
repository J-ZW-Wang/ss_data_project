{
 "cells": [
  {
   "cell_type": "markdown",
   "metadata": {},
   "source": [
    "# Driver Lifetime Value\n",
    "source: https://platform.stratascratch.com/data-projects/driver-lifetime-value"
   ]
  },
  {
   "cell_type": "code",
   "execution_count": 66,
   "metadata": {},
   "outputs": [],
   "source": [
    "import pandas as pd\n",
    "import numpy as np"
   ]
  },
  {
   "cell_type": "code",
   "execution_count": 4,
   "metadata": {},
   "outputs": [
    {
     "name": "stdout",
     "output_type": "stream",
     "text": [
      "<class 'pandas.core.frame.DataFrame'>\n",
      "RangeIndex: 937 entries, 0 to 936\n",
      "Data columns (total 2 columns):\n",
      " #   Column               Non-Null Count  Dtype \n",
      "---  ------               --------------  ----- \n",
      " 0   driver_id            937 non-null    object\n",
      " 1   driver_onboard_date  937 non-null    object\n",
      "dtypes: object(2)\n",
      "memory usage: 14.8+ KB\n",
      "None\n",
      "<class 'pandas.core.frame.DataFrame'>\n",
      "RangeIndex: 193502 entries, 0 to 193501\n",
      "Data columns (total 5 columns):\n",
      " #   Column           Non-Null Count   Dtype \n",
      "---  ------           --------------   ----- \n",
      " 0   driver_id        193502 non-null  object\n",
      " 1   ride_id          193502 non-null  object\n",
      " 2   ride_distance    193502 non-null  int64 \n",
      " 3   ride_duration    193502 non-null  int64 \n",
      " 4   ride_prime_time  193502 non-null  int64 \n",
      "dtypes: int64(3), object(2)\n",
      "memory usage: 7.4+ MB\n",
      "None\n",
      "<class 'pandas.core.frame.DataFrame'>\n",
      "RangeIndex: 970405 entries, 0 to 970404\n",
      "Data columns (total 3 columns):\n",
      " #   Column     Non-Null Count   Dtype \n",
      "---  ------     --------------   ----- \n",
      " 0   ride_id    970405 non-null  object\n",
      " 1   event      970405 non-null  object\n",
      " 2   timestamp  970404 non-null  object\n",
      "dtypes: object(3)\n",
      "memory usage: 22.2+ MB\n",
      "None\n"
     ]
    },
    {
     "data": {
      "text/html": [
       "<div>\n",
       "<style scoped>\n",
       "    .dataframe tbody tr th:only-of-type {\n",
       "        vertical-align: middle;\n",
       "    }\n",
       "\n",
       "    .dataframe tbody tr th {\n",
       "        vertical-align: top;\n",
       "    }\n",
       "\n",
       "    .dataframe thead th {\n",
       "        text-align: right;\n",
       "    }\n",
       "</style>\n",
       "<table border=\"1\" class=\"dataframe\">\n",
       "  <thead>\n",
       "    <tr style=\"text-align: right;\">\n",
       "      <th></th>\n",
       "      <th>ride_id</th>\n",
       "      <th>event</th>\n",
       "      <th>timestamp</th>\n",
       "    </tr>\n",
       "  </thead>\n",
       "  <tbody>\n",
       "    <tr>\n",
       "      <th>0</th>\n",
       "      <td>00003037a262d9ee40e61b5c0718f7f0</td>\n",
       "      <td>requested_at</td>\n",
       "      <td>2016-06-13 09:39:19</td>\n",
       "    </tr>\n",
       "    <tr>\n",
       "      <th>1</th>\n",
       "      <td>00003037a262d9ee40e61b5c0718f7f0</td>\n",
       "      <td>accepted_at</td>\n",
       "      <td>2016-06-13 09:39:51</td>\n",
       "    </tr>\n",
       "    <tr>\n",
       "      <th>2</th>\n",
       "      <td>00003037a262d9ee40e61b5c0718f7f0</td>\n",
       "      <td>arrived_at</td>\n",
       "      <td>2016-06-13 09:44:31</td>\n",
       "    </tr>\n",
       "    <tr>\n",
       "      <th>3</th>\n",
       "      <td>00003037a262d9ee40e61b5c0718f7f0</td>\n",
       "      <td>picked_up_at</td>\n",
       "      <td>2016-06-13 09:44:33</td>\n",
       "    </tr>\n",
       "    <tr>\n",
       "      <th>4</th>\n",
       "      <td>00003037a262d9ee40e61b5c0718f7f0</td>\n",
       "      <td>dropped_off_at</td>\n",
       "      <td>2016-06-13 10:03:05</td>\n",
       "    </tr>\n",
       "    <tr>\n",
       "      <th>...</th>\n",
       "      <td>...</td>\n",
       "      <td>...</td>\n",
       "      <td>...</td>\n",
       "    </tr>\n",
       "    <tr>\n",
       "      <th>970400</th>\n",
       "      <td>ffffccd77f47a3de26dfed9a851464b4</td>\n",
       "      <td>requested_at</td>\n",
       "      <td>2016-05-18 08:44:13</td>\n",
       "    </tr>\n",
       "    <tr>\n",
       "      <th>970401</th>\n",
       "      <td>ffffccd77f47a3de26dfed9a851464b4</td>\n",
       "      <td>accepted_at</td>\n",
       "      <td>2016-05-18 08:44:21</td>\n",
       "    </tr>\n",
       "    <tr>\n",
       "      <th>970402</th>\n",
       "      <td>ffffccd77f47a3de26dfed9a851464b4</td>\n",
       "      <td>arrived_at</td>\n",
       "      <td>2016-05-18 08:44:36</td>\n",
       "    </tr>\n",
       "    <tr>\n",
       "      <th>970403</th>\n",
       "      <td>ffffccd77f47a3de26dfed9a851464b4</td>\n",
       "      <td>picked_up_at</td>\n",
       "      <td>2016-05-18 08:44:42</td>\n",
       "    </tr>\n",
       "    <tr>\n",
       "      <th>970404</th>\n",
       "      <td>ffffccd77f47a3de26dfed9a851464b4</td>\n",
       "      <td>dropped_off_at</td>\n",
       "      <td>2016-05-18 09:11:37</td>\n",
       "    </tr>\n",
       "  </tbody>\n",
       "</table>\n",
       "<p>970405 rows × 3 columns</p>\n",
       "</div>"
      ],
      "text/plain": [
       "                                 ride_id           event            timestamp\n",
       "0       00003037a262d9ee40e61b5c0718f7f0    requested_at  2016-06-13 09:39:19\n",
       "1       00003037a262d9ee40e61b5c0718f7f0     accepted_at  2016-06-13 09:39:51\n",
       "2       00003037a262d9ee40e61b5c0718f7f0      arrived_at  2016-06-13 09:44:31\n",
       "3       00003037a262d9ee40e61b5c0718f7f0    picked_up_at  2016-06-13 09:44:33\n",
       "4       00003037a262d9ee40e61b5c0718f7f0  dropped_off_at  2016-06-13 10:03:05\n",
       "...                                  ...             ...                  ...\n",
       "970400  ffffccd77f47a3de26dfed9a851464b4    requested_at  2016-05-18 08:44:13\n",
       "970401  ffffccd77f47a3de26dfed9a851464b4     accepted_at  2016-05-18 08:44:21\n",
       "970402  ffffccd77f47a3de26dfed9a851464b4      arrived_at  2016-05-18 08:44:36\n",
       "970403  ffffccd77f47a3de26dfed9a851464b4    picked_up_at  2016-05-18 08:44:42\n",
       "970404  ffffccd77f47a3de26dfed9a851464b4  dropped_off_at  2016-05-18 09:11:37\n",
       "\n",
       "[970405 rows x 3 columns]"
      ]
     },
     "execution_count": 4,
     "metadata": {},
     "output_type": "execute_result"
    }
   ],
   "source": [
    "driver = pd.read_csv(\"./datasets/driver_ids.csv\")\n",
    "ride = pd.read_csv(\"./datasets/ride_ids.csv\")\n",
    "ridets = pd.read_csv(\"./datasets/ride_timestamps.csv\")\n",
    "\n",
    "print(driver.info())\n",
    "print(ride.info())\n",
    "print(ridets.info())\n",
    "\n",
    "ridets"
   ]
  },
  {
   "cell_type": "markdown",
   "metadata": {},
   "source": [
    "### (1) Feature engineering"
   ]
  },
  {
   "cell_type": "code",
   "execution_count": 32,
   "metadata": {},
   "outputs": [],
   "source": [
    "# Pivot ride timestamps\n",
    "ridets[\"timestamp\"] = pd.to_datetime(ridets[\"timestamp\"])\n",
    "ridets_pivot = (\n",
    "    ridets.pivot(index=\"ride_id\", columns=\"event\", values=\"timestamp\")\n",
    "    .reset_index()\n",
    "    .assign(\n",
    "        request_to_accept=lambda x: (x.accepted_at - x.requested_at).dt.total_seconds(),\n",
    "        pickup_to_dropoff=lambda x: (x.dropped_off_at - x.picked_up_at)\n",
    "        / pd.Timedelta(minutes=1),\n",
    "    )\n",
    ")\n"
   ]
  },
  {
   "cell_type": "code",
   "execution_count": 57,
   "metadata": {},
   "outputs": [
    {
     "name": "stdout",
     "output_type": "stream",
     "text": [
      "driver.shape=(937, 2) ride.shape=(193502, 5) ridets_pivot.shape=(194081, 8) trips.shape=(184209, 13)\n"
     ]
    }
   ],
   "source": [
    "# Merge driver, ride and ride_ts\n",
    "trips = ride.merge(ridets_pivot, on=\"ride_id\", how=\"inner\", validate=\"1:1\").merge(\n",
    "    driver, on=\"driver_id\", how=\"inner\", validate=\"m:1\"\n",
    ")\n",
    "print(f\"{driver.shape=} {ride.shape=} {ridets_pivot.shape=} {trips.shape=}\")"
   ]
  },
  {
   "cell_type": "code",
   "execution_count": 71,
   "metadata": {},
   "outputs": [],
   "source": [
    "# Calculate fares\n",
    "trips = trips.assign(\n",
    "    bare_fare=lambda x: (\n",
    "        2 + 0.22 * x.ride_duration / 60 + 1.15 * x.ride_distance / 1609.34\n",
    "    )\n",
    "    * (100 + x.ride_prime_time)\n",
    "    / 100\n",
    "    + 1.75,\n",
    "    final_fare=lambda x: np.minimum(400, np.maximum(5, x.bare_fare)),\n",
    ")\n"
   ]
  },
  {
   "cell_type": "code",
   "execution_count": 72,
   "metadata": {},
   "outputs": [
    {
     "data": {
      "text/plain": [
       "Index(['driver_id', 'ride_id', 'ride_distance', 'ride_duration',\n",
       "       'ride_prime_time', 'accepted_at', 'arrived_at', 'dropped_off_at',\n",
       "       'picked_up_at', 'requested_at', 'request_to_accept',\n",
       "       'pickup_to_dropoff', 'driver_onboard_date', 'fare', 'bare_fare',\n",
       "       'final_fare'],\n",
       "      dtype='object')"
      ]
     },
     "execution_count": 72,
     "metadata": {},
     "output_type": "execute_result"
    }
   ],
   "source": [
    "trips.columns"
   ]
  },
  {
   "cell_type": "code",
   "execution_count": 75,
   "metadata": {},
   "outputs": [],
   "source": [
    "# Active days\n",
    "# Total trips\n",
    "# Total distance\n",
    "# Total duration\n",
    "# Tenure\n",
    "# Average trips per day\n",
    "# Average distance per day\n",
    "# Average duration per day\n",
    "# Average distance per trip\n",
    "# Average prime time per day\n",
    "# Average speed\n",
    "# Dominant working hours: Morning, Afternoon, Evening, Night\n",
    "\n",
    "driveragg = (\n",
    "    trips.assign(active_date=lambda x: x.accepted_at.dt.date)\n",
    "    .groupby(\"driver_id\", as_index=False)\n",
    "    .agg(\n",
    "        active_days=(\"active_date\", \"nunique\"),\n",
    "        total_trips=(\"ride_id\", \"nunique\"),\n",
    "        total_distance=(\"ride_distance\", \"sum\"),\n",
    "    )\n",
    ")"
   ]
  }
 ],
 "metadata": {
  "kernelspec": {
   "display_name": "Python 3",
   "language": "python",
   "name": "python3"
  },
  "language_info": {
   "codemirror_mode": {
    "name": "ipython",
    "version": 3
   },
   "file_extension": ".py",
   "mimetype": "text/x-python",
   "name": "python",
   "nbconvert_exporter": "python",
   "pygments_lexer": "ipython3",
   "version": "3.12.5"
  }
 },
 "nbformat": 4,
 "nbformat_minor": 2
}
