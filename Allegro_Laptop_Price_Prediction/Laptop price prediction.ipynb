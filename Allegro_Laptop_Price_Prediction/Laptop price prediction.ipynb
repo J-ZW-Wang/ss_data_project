{
 "cells": [
  {
   "cell_type": "markdown",
   "metadata": {},
   "source": [
    "# Laptop price prediction\n",
    "Source: https://platform.stratascratch.com/data-projects/laptop-price-prediction"
   ]
  },
  {
   "cell_type": "markdown",
   "metadata": {},
   "source": [
    "## (1) Imports and setups"
   ]
  },
  {
   "cell_type": "code",
   "execution_count": 13,
   "metadata": {},
   "outputs": [],
   "source": [
    "import pandas as pd\n",
    "import numpy as np\n",
    "import json"
   ]
  },
  {
   "cell_type": "code",
   "execution_count": 8,
   "metadata": {},
   "outputs": [],
   "source": [
    "train_dt = pd.read_json(\"./datasets/train_dataset.json\")\n",
    "val_dt = pd.read_json(\"./datasets/val_dataset.json\")\n",
    "test_dt = pd.read_json(\"./datasets/test_dataset.json\")"
   ]
  },
  {
   "cell_type": "code",
   "execution_count": 43,
   "metadata": {},
   "outputs": [
    {
     "name": "stdout",
     "output_type": "stream",
     "text": [
      "<class 'pandas.core.frame.DataFrame'>\n",
      "Index: 4711 entries, 7233 to 6037\n",
      "Data columns (total 17 columns):\n",
      " #   Column                  Non-Null Count  Dtype  \n",
      "---  ------                  --------------  -----  \n",
      " 0   graphic card type       4417 non-null   object \n",
      " 1   communications          4261 non-null   object \n",
      " 2   resolution (px)         4361 non-null   object \n",
      " 3   CPU cores               4711 non-null   object \n",
      " 4   RAM size                4457 non-null   object \n",
      " 5   operating system        4335 non-null   object \n",
      " 6   drive type              4454 non-null   object \n",
      " 7   input devices           4321 non-null   object \n",
      " 8   multimedia              4310 non-null   object \n",
      " 9   RAM type                4212 non-null   object \n",
      " 10  CPU clock speed (GHz)   4181 non-null   float64\n",
      " 11  CPU model               4389 non-null   object \n",
      " 12  state                   4711 non-null   object \n",
      " 13  drive memory size (GB)  4439 non-null   float64\n",
      " 14  warranty                4711 non-null   object \n",
      " 15  screen size             4514 non-null   object \n",
      " 16  buynow_price            4711 non-null   float64\n",
      "dtypes: float64(3), object(14)\n",
      "memory usage: 662.5+ KB\n",
      "None\n"
     ]
    }
   ],
   "source": [
    "print(train_dt.info())"
   ]
  },
  {
   "cell_type": "code",
   "execution_count": 44,
   "metadata": {},
   "outputs": [
    {
     "name": "stdout",
     "output_type": "stream",
     "text": [
      "<class 'pandas.core.frame.DataFrame'>\n",
      "Index: 1571 entries, 3849 to 4277\n",
      "Data columns (total 17 columns):\n",
      " #   Column                  Non-Null Count  Dtype  \n",
      "---  ------                  --------------  -----  \n",
      " 0   graphic card type       1471 non-null   object \n",
      " 1   communications          1409 non-null   object \n",
      " 2   resolution (px)         1442 non-null   object \n",
      " 3   CPU cores               1571 non-null   object \n",
      " 4   RAM size                1478 non-null   object \n",
      " 5   operating system        1437 non-null   object \n",
      " 6   drive type              1485 non-null   object \n",
      " 7   input devices           1426 non-null   object \n",
      " 8   multimedia              1420 non-null   object \n",
      " 9   RAM type                1394 non-null   object \n",
      " 10  CPU clock speed (GHz)   1375 non-null   float64\n",
      " 11  CPU model               1467 non-null   object \n",
      " 12  state                   1571 non-null   object \n",
      " 13  drive memory size (GB)  1467 non-null   float64\n",
      " 14  warranty                1571 non-null   object \n",
      " 15  screen size             1498 non-null   object \n",
      " 16  buynow_price            1571 non-null   float64\n",
      "dtypes: float64(3), object(14)\n",
      "memory usage: 220.9+ KB\n",
      "None\n"
     ]
    }
   ],
   "source": [
    "print(val_dt.info())"
   ]
  },
  {
   "cell_type": "code",
   "execution_count": 42,
   "metadata": {},
   "outputs": [
    {
     "name": "stdout",
     "output_type": "stream",
     "text": [
      "<class 'pandas.core.frame.DataFrame'>\n",
      "Index: 1571 entries, 5124 to 1371\n",
      "Data columns (total 17 columns):\n",
      " #   Column                  Non-Null Count  Dtype  \n",
      "---  ------                  --------------  -----  \n",
      " 0   graphic card type       1469 non-null   object \n",
      " 1   communications          1401 non-null   object \n",
      " 2   resolution (px)         1442 non-null   object \n",
      " 3   CPU cores               1571 non-null   object \n",
      " 4   RAM size                1468 non-null   object \n",
      " 5   operating system        1431 non-null   object \n",
      " 6   drive type              1479 non-null   object \n",
      " 7   input devices           1428 non-null   object \n",
      " 8   multimedia              1415 non-null   object \n",
      " 9   RAM type                1383 non-null   object \n",
      " 10  CPU clock speed (GHz)   1361 non-null   float64\n",
      " 11  CPU model               1464 non-null   object \n",
      " 12  state                   1571 non-null   object \n",
      " 13  drive memory size (GB)  1466 non-null   float64\n",
      " 14  warranty                1571 non-null   object \n",
      " 15  screen size             1495 non-null   object \n",
      " 16  buynow_price            1571 non-null   float64\n",
      "dtypes: float64(3), object(14)\n",
      "memory usage: 220.9+ KB\n",
      "None\n"
     ]
    }
   ],
   "source": [
    "print(test_dt.info())"
   ]
  },
  {
   "cell_type": "markdown",
   "metadata": {},
   "source": [
    "## (2) Data manipulation"
   ]
  },
  {
   "cell_type": "code",
   "execution_count": null,
   "metadata": {},
   "outputs": [],
   "source": [
    "# TO DO - Explode and pivot 'communication'"
   ]
  },
  {
   "cell_type": "markdown",
   "metadata": {},
   "source": [
    "## (3) EDA"
   ]
  },
  {
   "cell_type": "code",
   "execution_count": 19,
   "metadata": {},
   "outputs": [
    {
     "name": "stdout",
     "output_type": "stream",
     "text": [
      "Numerical variables:  ['CPU clock speed (GHz)', 'drive memory size (GB)', 'buynow_price']\n",
      "Categorical variables:  ['graphic card type', 'communications', 'resolution (px)', 'CPU cores', 'RAM size', 'operating system', 'drive type', 'input devices', 'multimedia', 'RAM type', 'CPU model', 'state', 'warranty', 'screen size']\n"
     ]
    }
   ],
   "source": [
    "numvars = train_dt.select_dtypes(include=[np.number]).columns.to_list()\n",
    "catvars = train_dt.select_dtypes(include=[object]).columns.to_list()\n",
    "print(\"Numerical variables: \", numvars)\n",
    "print(\"Categorical variables: \", catvars)"
   ]
  },
  {
   "cell_type": "markdown",
   "metadata": {},
   "source": [
    "Check for missing values"
   ]
  },
  {
   "cell_type": "code",
   "execution_count": null,
   "metadata": {},
   "outputs": [
    {
     "data": {
      "text/html": [
       "<div>\n",
       "<style scoped>\n",
       "    .dataframe tbody tr th:only-of-type {\n",
       "        vertical-align: middle;\n",
       "    }\n",
       "\n",
       "    .dataframe tbody tr th {\n",
       "        vertical-align: top;\n",
       "    }\n",
       "\n",
       "    .dataframe thead th {\n",
       "        text-align: right;\n",
       "    }\n",
       "</style>\n",
       "<table border=\"1\" class=\"dataframe\">\n",
       "  <thead>\n",
       "    <tr style=\"text-align: right;\">\n",
       "      <th></th>\n",
       "      <th>Count</th>\n",
       "      <th>Proportion</th>\n",
       "    </tr>\n",
       "  </thead>\n",
       "  <tbody>\n",
       "    <tr>\n",
       "      <th>graphic card type</th>\n",
       "      <td>294</td>\n",
       "      <td>0.062407</td>\n",
       "    </tr>\n",
       "    <tr>\n",
       "      <th>communications</th>\n",
       "      <td>450</td>\n",
       "      <td>0.095521</td>\n",
       "    </tr>\n",
       "    <tr>\n",
       "      <th>resolution (px)</th>\n",
       "      <td>350</td>\n",
       "      <td>0.074294</td>\n",
       "    </tr>\n",
       "    <tr>\n",
       "      <th>CPU cores</th>\n",
       "      <td>0</td>\n",
       "      <td>0.000000</td>\n",
       "    </tr>\n",
       "    <tr>\n",
       "      <th>RAM size</th>\n",
       "      <td>254</td>\n",
       "      <td>0.053916</td>\n",
       "    </tr>\n",
       "    <tr>\n",
       "      <th>operating system</th>\n",
       "      <td>376</td>\n",
       "      <td>0.079813</td>\n",
       "    </tr>\n",
       "    <tr>\n",
       "      <th>drive type</th>\n",
       "      <td>257</td>\n",
       "      <td>0.054553</td>\n",
       "    </tr>\n",
       "    <tr>\n",
       "      <th>input devices</th>\n",
       "      <td>390</td>\n",
       "      <td>0.082785</td>\n",
       "    </tr>\n",
       "    <tr>\n",
       "      <th>multimedia</th>\n",
       "      <td>401</td>\n",
       "      <td>0.085120</td>\n",
       "    </tr>\n",
       "    <tr>\n",
       "      <th>RAM type</th>\n",
       "      <td>499</td>\n",
       "      <td>0.105922</td>\n",
       "    </tr>\n",
       "    <tr>\n",
       "      <th>CPU clock speed (GHz)</th>\n",
       "      <td>530</td>\n",
       "      <td>0.112503</td>\n",
       "    </tr>\n",
       "    <tr>\n",
       "      <th>CPU model</th>\n",
       "      <td>322</td>\n",
       "      <td>0.068351</td>\n",
       "    </tr>\n",
       "    <tr>\n",
       "      <th>state</th>\n",
       "      <td>0</td>\n",
       "      <td>0.000000</td>\n",
       "    </tr>\n",
       "    <tr>\n",
       "      <th>drive memory size (GB)</th>\n",
       "      <td>272</td>\n",
       "      <td>0.057737</td>\n",
       "    </tr>\n",
       "    <tr>\n",
       "      <th>warranty</th>\n",
       "      <td>0</td>\n",
       "      <td>0.000000</td>\n",
       "    </tr>\n",
       "    <tr>\n",
       "      <th>screen size</th>\n",
       "      <td>197</td>\n",
       "      <td>0.041817</td>\n",
       "    </tr>\n",
       "    <tr>\n",
       "      <th>buynow_price</th>\n",
       "      <td>0</td>\n",
       "      <td>0.000000</td>\n",
       "    </tr>\n",
       "  </tbody>\n",
       "</table>\n",
       "</div>"
      ],
      "text/plain": [
       "                        Count  Proportion\n",
       "graphic card type         294    0.062407\n",
       "communications            450    0.095521\n",
       "resolution (px)           350    0.074294\n",
       "CPU cores                   0    0.000000\n",
       "RAM size                  254    0.053916\n",
       "operating system          376    0.079813\n",
       "drive type                257    0.054553\n",
       "input devices             390    0.082785\n",
       "multimedia                401    0.085120\n",
       "RAM type                  499    0.105922\n",
       "CPU clock speed (GHz)     530    0.112503\n",
       "CPU model                 322    0.068351\n",
       "state                       0    0.000000\n",
       "drive memory size (GB)    272    0.057737\n",
       "warranty                    0    0.000000\n",
       "screen size               197    0.041817\n",
       "buynow_price                0    0.000000"
      ]
     },
     "execution_count": 32,
     "metadata": {},
     "output_type": "execute_result"
    }
   ],
   "source": [
    "pd.concat(\n",
    "    [train_dt.isna().sum(), train_dt.isna().mean()],\n",
    "    axis=1,\n",
    "    keys=[\"Count\", \"Proportion\"],\n",
    ")"
   ]
  },
  {
   "cell_type": "markdown",
   "metadata": {},
   "source": [
    "Univariate Analysis"
   ]
  },
  {
   "cell_type": "code",
   "execution_count": null,
   "metadata": {},
   "outputs": [
    {
     "data": {
      "text/html": [
       "<div>\n",
       "<style scoped>\n",
       "    .dataframe tbody tr th:only-of-type {\n",
       "        vertical-align: middle;\n",
       "    }\n",
       "\n",
       "    .dataframe tbody tr th {\n",
       "        vertical-align: top;\n",
       "    }\n",
       "\n",
       "    .dataframe thead th {\n",
       "        text-align: right;\n",
       "    }\n",
       "</style>\n",
       "<table border=\"1\" class=\"dataframe\">\n",
       "  <thead>\n",
       "    <tr style=\"text-align: right;\">\n",
       "      <th></th>\n",
       "      <th>CPU clock speed (GHz)</th>\n",
       "      <th>drive memory size (GB)</th>\n",
       "      <th>buynow_price</th>\n",
       "    </tr>\n",
       "  </thead>\n",
       "  <tbody>\n",
       "    <tr>\n",
       "      <th>count</th>\n",
       "      <td>4181.000000</td>\n",
       "      <td>4439.000000</td>\n",
       "      <td>4711.000000</td>\n",
       "    </tr>\n",
       "    <tr>\n",
       "      <th>mean</th>\n",
       "      <td>2.342057</td>\n",
       "      <td>652.619284</td>\n",
       "      <td>3495.831195</td>\n",
       "    </tr>\n",
       "    <tr>\n",
       "      <th>std</th>\n",
       "      <td>0.386298</td>\n",
       "      <td>467.657354</td>\n",
       "      <td>1727.933306</td>\n",
       "    </tr>\n",
       "    <tr>\n",
       "      <th>min</th>\n",
       "      <td>0.800000</td>\n",
       "      <td>0.000000</td>\n",
       "      <td>429.000000</td>\n",
       "    </tr>\n",
       "    <tr>\n",
       "      <th>50%</th>\n",
       "      <td>2.500000</td>\n",
       "      <td>500.000000</td>\n",
       "      <td>3184.000000</td>\n",
       "    </tr>\n",
       "    <tr>\n",
       "      <th>95%</th>\n",
       "      <td>2.800000</td>\n",
       "      <td>1500.000000</td>\n",
       "      <td>6779.000000</td>\n",
       "    </tr>\n",
       "    <tr>\n",
       "      <th>max</th>\n",
       "      <td>3.900000</td>\n",
       "      <td>2960.000000</td>\n",
       "      <td>15472.650000</td>\n",
       "    </tr>\n",
       "  </tbody>\n",
       "</table>\n",
       "</div>"
      ],
      "text/plain": [
       "       CPU clock speed (GHz)  drive memory size (GB)  buynow_price\n",
       "count            4181.000000             4439.000000   4711.000000\n",
       "mean                2.342057              652.619284   3495.831195\n",
       "std                 0.386298              467.657354   1727.933306\n",
       "min                 0.800000                0.000000    429.000000\n",
       "50%                 2.500000              500.000000   3184.000000\n",
       "95%                 2.800000             1500.000000   6779.000000\n",
       "max                 3.900000             2960.000000  15472.650000"
      ]
     },
     "execution_count": 33,
     "metadata": {},
     "output_type": "execute_result"
    }
   ],
   "source": [
    "train_dt[numvars].describe(percentiles=[0.95])"
   ]
  },
  {
   "cell_type": "code",
   "execution_count": 40,
   "metadata": {},
   "outputs": [
    {
     "data": {
      "text/plain": [
       "communications\n",
       "[wi-fi, bluetooth, lan 10/100/1000 mbps]                                                                                              1128\n",
       "[bluetooth, lan 10/100 mbps]                                                                                                           656\n",
       "[bluetooth, lan 10/100/1000 mbps, lan 10/100 mbps, intel wireless display (widi), nfc (near field communication), modem 3g (wwan)]     429\n",
       "[bluetooth, lan 10/100/1000 mbps]                                                                                                      395\n",
       "[wi-fi, bluetooth, lan 10/100 mbps]                                                                                                    306\n",
       "                                                                                                                                      ... \n",
       "[wi-fi 802.11 a/b/g/n/ac, wi-fi 802.11 b/g/n, wi-fi 802.11 a/b/g/n, bluetooth, lan 10/100 mbps]                                          1\n",
       "[lan 10/100/1000 mbps, nfc (near field communication), modem 4g (lte)]                                                                   1\n",
       "[wi-fi 802.11 a/b/g/n, bluetooth, lan 10/100 mbps]                                                                                       1\n",
       "[wi-fi, lan 10/100/1000 mbps, nfc (near field communication), gps]                                                                       1\n",
       "[wi-fi 802.11 b/g/n/ac, lan 10/100/1000 mbps]                                                                                            1\n",
       "Name: count, Length: 97, dtype: int64"
      ]
     },
     "execution_count": 40,
     "metadata": {},
     "output_type": "execute_result"
    }
   ],
   "source": [
    "train_dt[\"communications\"].value_counts()"
   ]
  },
  {
   "cell_type": "code",
   "execution_count": 39,
   "metadata": {},
   "outputs": [
    {
     "name": "stdout",
     "output_type": "stream",
     "text": [
      "graphic card type\n",
      "['dedicated graphics' None 'integrated graphics']\n",
      "communications\n"
     ]
    },
    {
     "ename": "TypeError",
     "evalue": "unhashable type: 'list'",
     "output_type": "error",
     "traceback": [
      "\u001b[1;31m---------------------------------------------------------------------------\u001b[0m",
      "\u001b[1;31mTypeError\u001b[0m                                 Traceback (most recent call last)",
      "Cell \u001b[1;32mIn[39], line 3\u001b[0m\n\u001b[0;32m      1\u001b[0m \u001b[38;5;28;01mfor\u001b[39;00m i \u001b[38;5;129;01min\u001b[39;00m catvars:\n\u001b[0;32m      2\u001b[0m     \u001b[38;5;28mprint\u001b[39m(i)\n\u001b[1;32m----> 3\u001b[0m     \u001b[38;5;28mprint\u001b[39m(\u001b[43mtrain_dt\u001b[49m\u001b[43m[\u001b[49m\u001b[43mi\u001b[49m\u001b[43m]\u001b[49m\u001b[38;5;241;43m.\u001b[39;49m\u001b[43munique\u001b[49m\u001b[43m(\u001b[49m\u001b[43m)\u001b[49m)\n\u001b[0;32m      4\u001b[0m     \u001b[38;5;66;03m#print(f\"{i}: N={train_dt[i].nunique()} {train_dt[i].unique()}\")\u001b[39;00m\n",
      "File \u001b[1;32mc:\\Users\\Jerry_Dell_7060\\AppData\\Local\\Programs\\Python\\Python312\\Lib\\site-packages\\pandas\\core\\series.py:2407\u001b[0m, in \u001b[0;36mSeries.unique\u001b[1;34m(self)\u001b[0m\n\u001b[0;32m   2344\u001b[0m \u001b[38;5;28;01mdef\u001b[39;00m \u001b[38;5;21munique\u001b[39m(\u001b[38;5;28mself\u001b[39m) \u001b[38;5;241m-\u001b[39m\u001b[38;5;241m>\u001b[39m ArrayLike:  \u001b[38;5;66;03m# pylint: disable=useless-parent-delegation\u001b[39;00m\n\u001b[0;32m   2345\u001b[0m \u001b[38;5;250m    \u001b[39m\u001b[38;5;124;03m\"\"\"\u001b[39;00m\n\u001b[0;32m   2346\u001b[0m \u001b[38;5;124;03m    Return unique values of Series object.\u001b[39;00m\n\u001b[0;32m   2347\u001b[0m \n\u001b[1;32m   (...)\u001b[0m\n\u001b[0;32m   2405\u001b[0m \u001b[38;5;124;03m    Categories (3, object): ['a' < 'b' < 'c']\u001b[39;00m\n\u001b[0;32m   2406\u001b[0m \u001b[38;5;124;03m    \"\"\"\u001b[39;00m\n\u001b[1;32m-> 2407\u001b[0m     \u001b[38;5;28;01mreturn\u001b[39;00m \u001b[38;5;28;43msuper\u001b[39;49m\u001b[43m(\u001b[49m\u001b[43m)\u001b[49m\u001b[38;5;241;43m.\u001b[39;49m\u001b[43munique\u001b[49m\u001b[43m(\u001b[49m\u001b[43m)\u001b[49m\n",
      "File \u001b[1;32mc:\\Users\\Jerry_Dell_7060\\AppData\\Local\\Programs\\Python\\Python312\\Lib\\site-packages\\pandas\\core\\base.py:1025\u001b[0m, in \u001b[0;36mIndexOpsMixin.unique\u001b[1;34m(self)\u001b[0m\n\u001b[0;32m   1023\u001b[0m     result \u001b[38;5;241m=\u001b[39m values\u001b[38;5;241m.\u001b[39munique()\n\u001b[0;32m   1024\u001b[0m \u001b[38;5;28;01melse\u001b[39;00m:\n\u001b[1;32m-> 1025\u001b[0m     result \u001b[38;5;241m=\u001b[39m \u001b[43malgorithms\u001b[49m\u001b[38;5;241;43m.\u001b[39;49m\u001b[43munique1d\u001b[49m\u001b[43m(\u001b[49m\u001b[43mvalues\u001b[49m\u001b[43m)\u001b[49m\n\u001b[0;32m   1026\u001b[0m \u001b[38;5;28;01mreturn\u001b[39;00m result\n",
      "File \u001b[1;32mc:\\Users\\Jerry_Dell_7060\\AppData\\Local\\Programs\\Python\\Python312\\Lib\\site-packages\\pandas\\core\\algorithms.py:401\u001b[0m, in \u001b[0;36munique\u001b[1;34m(values)\u001b[0m\n\u001b[0;32m    307\u001b[0m \u001b[38;5;28;01mdef\u001b[39;00m \u001b[38;5;21munique\u001b[39m(values):\n\u001b[0;32m    308\u001b[0m \u001b[38;5;250m    \u001b[39m\u001b[38;5;124;03m\"\"\"\u001b[39;00m\n\u001b[0;32m    309\u001b[0m \u001b[38;5;124;03m    Return unique values based on a hash table.\u001b[39;00m\n\u001b[0;32m    310\u001b[0m \n\u001b[1;32m   (...)\u001b[0m\n\u001b[0;32m    399\u001b[0m \u001b[38;5;124;03m    array([('a', 'b'), ('b', 'a'), ('a', 'c')], dtype=object)\u001b[39;00m\n\u001b[0;32m    400\u001b[0m \u001b[38;5;124;03m    \"\"\"\u001b[39;00m\n\u001b[1;32m--> 401\u001b[0m     \u001b[38;5;28;01mreturn\u001b[39;00m \u001b[43munique_with_mask\u001b[49m\u001b[43m(\u001b[49m\u001b[43mvalues\u001b[49m\u001b[43m)\u001b[49m\n",
      "File \u001b[1;32mc:\\Users\\Jerry_Dell_7060\\AppData\\Local\\Programs\\Python\\Python312\\Lib\\site-packages\\pandas\\core\\algorithms.py:440\u001b[0m, in \u001b[0;36munique_with_mask\u001b[1;34m(values, mask)\u001b[0m\n\u001b[0;32m    438\u001b[0m table \u001b[38;5;241m=\u001b[39m hashtable(\u001b[38;5;28mlen\u001b[39m(values))\n\u001b[0;32m    439\u001b[0m \u001b[38;5;28;01mif\u001b[39;00m mask \u001b[38;5;129;01mis\u001b[39;00m \u001b[38;5;28;01mNone\u001b[39;00m:\n\u001b[1;32m--> 440\u001b[0m     uniques \u001b[38;5;241m=\u001b[39m \u001b[43mtable\u001b[49m\u001b[38;5;241;43m.\u001b[39;49m\u001b[43munique\u001b[49m\u001b[43m(\u001b[49m\u001b[43mvalues\u001b[49m\u001b[43m)\u001b[49m\n\u001b[0;32m    441\u001b[0m     uniques \u001b[38;5;241m=\u001b[39m _reconstruct_data(uniques, original\u001b[38;5;241m.\u001b[39mdtype, original)\n\u001b[0;32m    442\u001b[0m     \u001b[38;5;28;01mreturn\u001b[39;00m uniques\n",
      "File \u001b[1;32mpandas\\\\_libs\\\\hashtable_class_helper.pxi:7248\u001b[0m, in \u001b[0;36mpandas._libs.hashtable.PyObjectHashTable.unique\u001b[1;34m()\u001b[0m\n",
      "File \u001b[1;32mpandas\\\\_libs\\\\hashtable_class_helper.pxi:7195\u001b[0m, in \u001b[0;36mpandas._libs.hashtable.PyObjectHashTable._unique\u001b[1;34m()\u001b[0m\n",
      "\u001b[1;31mTypeError\u001b[0m: unhashable type: 'list'"
     ]
    }
   ],
   "source": [
    "for i in catvars:\n",
    "    print(i)\n",
    "    print(train_dt[i].unique())\n",
    "    # print(f\"{i}: N={train_dt[i].nunique()} {train_dt[i].unique()}\")"
   ]
  }
 ],
 "metadata": {
  "kernelspec": {
   "display_name": "Python 3",
   "language": "python",
   "name": "python3"
  },
  "language_info": {
   "codemirror_mode": {
    "name": "ipython",
    "version": 3
   },
   "file_extension": ".py",
   "mimetype": "text/x-python",
   "name": "python",
   "nbconvert_exporter": "python",
   "pygments_lexer": "ipython3",
   "version": "3.12.5"
  }
 },
 "nbformat": 4,
 "nbformat_minor": 2
}
