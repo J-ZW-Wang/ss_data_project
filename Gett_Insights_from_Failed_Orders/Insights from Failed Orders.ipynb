{
 "cells": [
  {
   "cell_type": "markdown",
   "metadata": {},
   "source": [
    "# Insights from Failed Orders\n",
    "source: https://platform.stratascratch.com/data-projects/insights-failed-orders"
   ]
  },
  {
   "cell_type": "code",
   "execution_count": 2,
   "metadata": {},
   "outputs": [],
   "source": [
    "import pandas as pd"
   ]
  },
  {
   "cell_type": "code",
   "execution_count": 12,
   "metadata": {},
   "outputs": [
    {
     "name": "stdout",
     "output_type": "stream",
     "text": [
      "<class 'pandas.core.frame.DataFrame'>\n",
      "RangeIndex: 334363 entries, 0 to 334362\n",
      "Data columns (total 2 columns):\n",
      " #   Column    Non-Null Count   Dtype\n",
      "---  ------    --------------   -----\n",
      " 0   order_gk  334363 non-null  int64\n",
      " 1   offer_id  334363 non-null  int64\n",
      "dtypes: int64(2)\n",
      "memory usage: 5.1 MB\n",
      "None\n",
      "<class 'pandas.core.frame.DataFrame'>\n",
      "RangeIndex: 10716 entries, 0 to 10715\n",
      "Data columns (total 8 columns):\n",
      " #   Column                         Non-Null Count  Dtype  \n",
      "---  ------                         --------------  -----  \n",
      " 0   order_datetime                 10716 non-null  object \n",
      " 1   origin_longitude               10716 non-null  float64\n",
      " 2   origin_latitude                10716 non-null  float64\n",
      " 3   m_order_eta                    2814 non-null   float64\n",
      " 4   order_gk                       10716 non-null  int64  \n",
      " 5   order_status_key               10716 non-null  int64  \n",
      " 6   is_driver_assigned_key         10716 non-null  int64  \n",
      " 7   cancellations_time_in_seconds  7307 non-null   float64\n",
      "dtypes: float64(4), int64(3), object(1)\n",
      "memory usage: 669.9+ KB\n",
      "None\n"
     ]
    }
   ],
   "source": [
    "offer = pd.read_csv(\"./datasets/data_offers.csv\")\n",
    "orders = pd.read_csv(\"./datasets/data_orders.csv\")\n",
    "\n",
    "print(offer.info())\n",
    "print(orders.info())"
   ]
  },
  {
   "cell_type": "code",
   "execution_count": 19,
   "metadata": {},
   "outputs": [
    {
     "name": "stdout",
     "output_type": "stream",
     "text": [
      "       origin_longitude  origin_latitude  m_order_eta      order_gk  \\\n",
      "count      10716.000000     10716.000000  2814.000000  1.071600e+04   \n",
      "mean          -0.964323        51.450541   441.415423  3.000598e+12   \n",
      "std            0.022818         0.011984   288.006379  2.396261e+07   \n",
      "min           -1.066957        51.399323    60.000000  3.000550e+12   \n",
      "25%           -0.974363        51.444643   233.000000  3.000583e+12   \n",
      "50%           -0.966386        51.451972   368.500000  3.000595e+12   \n",
      "75%           -0.949605        51.456725   653.000000  3.000623e+12   \n",
      "max           -0.867088        51.496169  1559.000000  3.000633e+12   \n",
      "\n",
      "       order_status_key  is_driver_assigned_key  cancellations_time_in_seconds  \n",
      "count      10716.000000            10716.000000                    7307.000000  \n",
      "mean           5.590612                0.262598                     157.892021  \n",
      "std            2.328845                0.440066                     213.366963  \n",
      "min            4.000000                0.000000                       3.000000  \n",
      "25%            4.000000                0.000000                      45.000000  \n",
      "50%            4.000000                0.000000                      98.000000  \n",
      "75%            9.000000                1.000000                     187.500000  \n",
      "max            9.000000                1.000000                    4303.000000  \n"
     ]
    },
    {
     "data": {
      "text/plain": [
       "['order_datetime']"
      ]
     },
     "execution_count": 19,
     "metadata": {},
     "output_type": "execute_result"
    }
   ],
   "source": [
    "orders.isna().sum()\n",
    "print(orders.describe())"
   ]
  },
  {
   "cell_type": "markdown",
   "metadata": {},
   "source": [
    "### 1. Distribution of reasons for failed orders"
   ]
  }
 ],
 "metadata": {
  "kernelspec": {
   "display_name": "Python 3",
   "language": "python",
   "name": "python3"
  },
  "language_info": {
   "codemirror_mode": {
    "name": "ipython",
    "version": 3
   },
   "file_extension": ".py",
   "mimetype": "text/x-python",
   "name": "python",
   "nbconvert_exporter": "python",
   "pygments_lexer": "ipython3",
   "version": "3.12.5"
  }
 },
 "nbformat": 4,
 "nbformat_minor": 2
}
