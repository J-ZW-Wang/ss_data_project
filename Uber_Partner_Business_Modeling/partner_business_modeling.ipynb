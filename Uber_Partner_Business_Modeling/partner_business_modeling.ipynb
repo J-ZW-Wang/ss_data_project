{
 "cells": [
  {
   "cell_type": "markdown",
   "metadata": {},
   "source": [
    "# Partner Business Modeling\n",
    "source: https://platform.stratascratch.com/data-projects/partner-business-modeling"
   ]
  },
  {
   "cell_type": "code",
   "execution_count": 1,
   "metadata": {},
   "outputs": [],
   "source": [
    "import pandas as pd"
   ]
  },
  {
   "cell_type": "code",
   "execution_count": 6,
   "metadata": {},
   "outputs": [
    {
     "name": "stdout",
     "output_type": "stream",
     "text": [
      "<class 'pandas.core.frame.DataFrame'>\n",
      "RangeIndex: 119 entries, 0 to 118\n",
      "Data columns (total 5 columns):\n",
      " #   Column           Non-Null Count  Dtype  \n",
      "---  ------           --------------  -----  \n",
      " 0   Name             119 non-null    object \n",
      " 1   Trips Completed  119 non-null    int64  \n",
      " 2   Accept Rate      119 non-null    object \n",
      " 3   Supply Hours     119 non-null    int64  \n",
      " 4   Rating           119 non-null    float64\n",
      "dtypes: float64(1), int64(2), object(2)\n",
      "memory usage: 4.8+ KB\n",
      "None\n"
     ]
    },
    {
     "data": {
      "text/html": [
       "<div>\n",
       "<style scoped>\n",
       "    .dataframe tbody tr th:only-of-type {\n",
       "        vertical-align: middle;\n",
       "    }\n",
       "\n",
       "    .dataframe tbody tr th {\n",
       "        vertical-align: top;\n",
       "    }\n",
       "\n",
       "    .dataframe thead th {\n",
       "        text-align: right;\n",
       "    }\n",
       "</style>\n",
       "<table border=\"1\" class=\"dataframe\">\n",
       "  <thead>\n",
       "    <tr style=\"text-align: right;\">\n",
       "      <th></th>\n",
       "      <th>Name</th>\n",
       "      <th>Trips Completed</th>\n",
       "      <th>Accept Rate</th>\n",
       "      <th>Supply Hours</th>\n",
       "      <th>Rating</th>\n",
       "    </tr>\n",
       "  </thead>\n",
       "  <tbody>\n",
       "    <tr>\n",
       "      <th>0</th>\n",
       "      <td>Abdul</td>\n",
       "      <td>1</td>\n",
       "      <td>100%</td>\n",
       "      <td>3</td>\n",
       "      <td>4.8</td>\n",
       "    </tr>\n",
       "    <tr>\n",
       "      <th>1</th>\n",
       "      <td>Abraham</td>\n",
       "      <td>12</td>\n",
       "      <td>83%</td>\n",
       "      <td>5</td>\n",
       "      <td>4.7</td>\n",
       "    </tr>\n",
       "    <tr>\n",
       "      <th>2</th>\n",
       "      <td>Adelina</td>\n",
       "      <td>1</td>\n",
       "      <td>100%</td>\n",
       "      <td>2</td>\n",
       "      <td>4.7</td>\n",
       "    </tr>\n",
       "    <tr>\n",
       "      <th>3</th>\n",
       "      <td>Akilah</td>\n",
       "      <td>1</td>\n",
       "      <td>100%</td>\n",
       "      <td>2</td>\n",
       "      <td>4.9</td>\n",
       "    </tr>\n",
       "    <tr>\n",
       "      <th>4</th>\n",
       "      <td>Alec</td>\n",
       "      <td>21</td>\n",
       "      <td>76%</td>\n",
       "      <td>11</td>\n",
       "      <td>5.0</td>\n",
       "    </tr>\n",
       "    <tr>\n",
       "      <th>...</th>\n",
       "      <td>...</td>\n",
       "      <td>...</td>\n",
       "      <td>...</td>\n",
       "      <td>...</td>\n",
       "      <td>...</td>\n",
       "    </tr>\n",
       "    <tr>\n",
       "      <th>114</th>\n",
       "      <td>Virgen</td>\n",
       "      <td>4</td>\n",
       "      <td>100%</td>\n",
       "      <td>6</td>\n",
       "      <td>4.5</td>\n",
       "    </tr>\n",
       "    <tr>\n",
       "      <th>115</th>\n",
       "      <td>Yang</td>\n",
       "      <td>7</td>\n",
       "      <td>71%</td>\n",
       "      <td>2</td>\n",
       "      <td>4.5</td>\n",
       "    </tr>\n",
       "    <tr>\n",
       "      <th>116</th>\n",
       "      <td>Yessenia</td>\n",
       "      <td>8</td>\n",
       "      <td>88%</td>\n",
       "      <td>5</td>\n",
       "      <td>5.0</td>\n",
       "    </tr>\n",
       "    <tr>\n",
       "      <th>117</th>\n",
       "      <td>Yukiko</td>\n",
       "      <td>9</td>\n",
       "      <td>78%</td>\n",
       "      <td>6</td>\n",
       "      <td>4.5</td>\n",
       "    </tr>\n",
       "    <tr>\n",
       "      <th>118</th>\n",
       "      <td>Zoe</td>\n",
       "      <td>21</td>\n",
       "      <td>86%</td>\n",
       "      <td>9</td>\n",
       "      <td>4.9</td>\n",
       "    </tr>\n",
       "  </tbody>\n",
       "</table>\n",
       "<p>119 rows × 5 columns</p>\n",
       "</div>"
      ],
      "text/plain": [
       "         Name  Trips Completed Accept Rate  Supply Hours  Rating\n",
       "0       Abdul                1        100%             3     4.8\n",
       "1     Abraham               12         83%             5     4.7\n",
       "2     Adelina                1        100%             2     4.7\n",
       "3      Akilah                1        100%             2     4.9\n",
       "4        Alec               21         76%            11     5.0\n",
       "..        ...              ...         ...           ...     ...\n",
       "114    Virgen                4        100%             6     4.5\n",
       "115      Yang                7         71%             2     4.5\n",
       "116  Yessenia                8         88%             5     5.0\n",
       "117    Yukiko                9         78%             6     4.5\n",
       "118       Zoe               21         86%             9     4.9\n",
       "\n",
       "[119 rows x 5 columns]"
      ]
     },
     "execution_count": 6,
     "metadata": {},
     "output_type": "execute_result"
    }
   ],
   "source": [
    "drivers = pd.read_csv(\"./datasets/dataset.csv\")\n",
    "\n",
    "print(drivers.info())\n",
    "drivers"
   ]
  },
  {
   "cell_type": "markdown",
   "metadata": {},
   "source": [
    "### (1) How much would the total bonus payout be with option 1\n",
    "Option 1: $50 for each driver that is online at least 8 hours, accepts 90% of requests, completes 10 trips, and has a rating of 4.7 or better during the time frame"
   ]
  },
  {
   "cell_type": "code",
   "execution_count": 20,
   "metadata": {},
   "outputs": [
    {
     "name": "stdout",
     "output_type": "stream",
     "text": [
      "option1_bonus=1050\n"
     ]
    }
   ],
   "source": [
    "# Convert XY% string to float\n",
    "drivers[\"accept_rate\"] = drivers[\"Accept Rate\"].str.replace(\"%\", \"\").astype(int) / 100\n",
    "df = drivers[\n",
    "    (drivers[\"Supply Hours\"] >= 8)\n",
    "    & (drivers[\"Accept_rate\"] >= 0.9)\n",
    "    & (drivers[\"Trips Completed\"] >= 10)\n",
    "    & (drivers[\"Rating\"] >= 4.7)\n",
    "]\n",
    "\n",
    "option1_bonus = df.Name.count() * 50\n",
    "print(f\"{option1_bonus=}\")"
   ]
  },
  {
   "cell_type": "markdown",
   "metadata": {},
   "source": [
    "### (2) How much would the total bonus payout be with option 2\n",
    "Option 2: $4/trip for all drivers who complete 12 trips, and have a 4.7 or better rating"
   ]
  },
  {
   "cell_type": "code",
   "execution_count": 42,
   "metadata": {},
   "outputs": [
    {
     "name": "stdout",
     "output_type": "stream",
     "text": [
      "option2_bonus=2976\n"
     ]
    }
   ],
   "source": [
    "df2 = drivers[(drivers[\"Trips Completed\"] >= 12) & (drivers[\"Rating\"] >= 4.7)]\n",
    "option2_bonus = df2[\"Trips Completed\"].sum() * 4\n",
    "print(f\"{option2_bonus=}\")"
   ]
  },
  {
   "cell_type": "markdown",
   "metadata": {},
   "source": [
    "### (3) How many drivers would qualify for a bonus under Option 1 but not under Option 2?"
   ]
  },
  {
   "cell_type": "code",
   "execution_count": 24,
   "metadata": {},
   "outputs": [
    {
     "name": "stdout",
     "output_type": "stream",
     "text": [
      "2\n"
     ]
    }
   ],
   "source": [
    "x1 = df.Name.count()\n",
    "x2 = df[df[\"Trips Completed\"] >= 12].Name.count()\n",
    "print(f\"{x1-x2}\")"
   ]
  },
  {
   "cell_type": "markdown",
   "metadata": {},
   "source": [
    "### (4) What percentages of drivers online completed less than 10 trips, had an acceptance rate of less than 90%, and had a rating of 4.7 or higher?"
   ]
  },
  {
   "cell_type": "code",
   "execution_count": 30,
   "metadata": {},
   "outputs": [
    {
     "name": "stdout",
     "output_type": "stream",
     "text": [
      "pct = 10.92%\n"
     ]
    }
   ],
   "source": [
    "y1 = drivers[\n",
    "    (drivers[\"Trips Completed\"] < 10)\n",
    "    & (drivers[\"accept_rate\"] < 0.9)\n",
    "    & (drivers[\"Rating\"] >= 4.7)\n",
    "]\n",
    "\n",
    "pct = round(y1.Name.count() / drivers.Name.count() * 100, 2)\n",
    "\n",
    "print(f\"pct = {pct}%\")"
   ]
  },
  {
   "cell_type": "markdown",
   "metadata": {},
   "source": [
    "### (5) How much money (after expenses) does the taxi driver make per year without partnering with Uber?"
   ]
  },
  {
   "cell_type": "code",
   "execution_count": 37,
   "metadata": {},
   "outputs": [
    {
     "name": "stdout",
     "output_type": "stream",
     "text": [
      "Revenue=58800, Expenses=39100, Income=19700\n"
     ]
    }
   ],
   "source": [
    "Revenue = 200 * 6 * (52 - 3)\n",
    "Expenses = (200 + 500) * (52 - 3) + 400 * 12\n",
    "Income = Revenue - Expenses\n",
    "print(f\"{Revenue=}, {Expenses=}, {Income=}\")"
   ]
  },
  {
   "cell_type": "markdown",
   "metadata": {},
   "source": [
    "### (6) You are convincing the same driver above to buy a Town Car and partner with Uber. Assuming the new car is 40,000 USD, how much would the driver's gross fares need to increase per week to fully pay for the car in year 1 and maintain the same yearly profit margin as before?"
   ]
  },
  {
   "cell_type": "code",
   "execution_count": 39,
   "metadata": {},
   "outputs": [
    {
     "name": "stdout",
     "output_type": "stream",
     "text": [
      "Expenses2=14130.0, Required_Revenue=73830.0, weekly_increase=306.7346938775511\n"
     ]
    }
   ],
   "source": [
    "Expenses2 = (200 * 1.05) * (52 - 3) + 400 * 0.8 * 12\n",
    "Required_Revenue = Income + 40000 + Expenses2\n",
    "weekly_increase = Required_Revenue / (52 - 3) - 200 * 6\n",
    "print(f\"{Expenses2=}, {Required_Revenue=}, {weekly_increase=}\")"
   ]
  }
 ],
 "metadata": {
  "kernelspec": {
   "display_name": "Python 3",
   "language": "python",
   "name": "python3"
  },
  "language_info": {
   "codemirror_mode": {
    "name": "ipython",
    "version": 3
   },
   "file_extension": ".py",
   "mimetype": "text/x-python",
   "name": "python",
   "nbconvert_exporter": "python",
   "pygments_lexer": "ipython3",
   "version": "3.12.5"
  }
 },
 "nbformat": 4,
 "nbformat_minor": 2
}
