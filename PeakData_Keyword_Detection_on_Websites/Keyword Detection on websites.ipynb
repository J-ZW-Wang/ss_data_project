{
 "cells": [
  {
   "cell_type": "markdown",
   "metadata": {},
   "source": [
    "# Keyword Detection on Websites\n",
    "Source: https://platform.stratascratch.com/data-projects/keyword-detection-websites\n"
   ]
  },
  {
   "cell_type": "code",
   "execution_count": 1,
   "metadata": {},
   "outputs": [],
   "source": [
    "from bs4 import BeautifulSoup\n",
    "import pandas as pd\n",
    "import chardet\n",
    "from transformers import pipeline"
   ]
  },
  {
   "cell_type": "markdown",
   "metadata": {},
   "source": [
    "### (1) Load and examine data"
   ]
  },
  {
   "cell_type": "code",
   "execution_count": 2,
   "metadata": {},
   "outputs": [],
   "source": [
    "traindt = pd.read_csv(\"./datasets/train.csv\")\n",
    "testdt = pd.read_csv(\"./datasets/test.csv\")"
   ]
  },
  {
   "cell_type": "code",
   "execution_count": 3,
   "metadata": {},
   "outputs": [
    {
     "name": "stderr",
     "output_type": "stream",
     "text": [
      "c:\\Users\\Jerry_Dell_7060\\AppData\\Local\\Programs\\Python\\Python312\\Lib\\html\\parser.py:171: XMLParsedAsHTMLWarning: It looks like you're parsing an XML document using an HTML parser. If this really is an HTML document (maybe it's XHTML?), you can ignore or filter this warning. If it's XML, you should know that using an XML parser will be more reliable. To parse this document as XML, make sure you have the lxml package installed, and pass the keyword argument `features=\"xml\"` into the BeautifulSoup constructor.\n",
      "  k = self.parse_starttag(i)\n"
     ]
    }
   ],
   "source": [
    "htmldt = []\n",
    "\n",
    "for i in range(147):\n",
    "    with open(f\"./datasets/htmls/{i}.html\", \"rb\") as f:\n",
    "        initread = chardet.detect(f.read())\n",
    "        encoding = initread[\"encoding\"]\n",
    "\n",
    "    with open(f\"./datasets/htmls/{i}.html\", \"r\", encoding=encoding) as f:\n",
    "        html = f.read()\n",
    "\n",
    "    soup = BeautifulSoup(html, \"html.parser\")\n",
    "    body = soup.get_text(\" \", strip=True)\n",
    "    htmldt.append({\"id\": i, \"html\": body})\n",
    "\n",
    "htmldt = pd.DataFrame(htmldt)"
   ]
  },
  {
   "cell_type": "code",
   "execution_count": 4,
   "metadata": {},
   "outputs": [
    {
     "data": {
      "text/html": [
       "<div>\n",
       "<style scoped>\n",
       "    .dataframe tbody tr th:only-of-type {\n",
       "        vertical-align: middle;\n",
       "    }\n",
       "\n",
       "    .dataframe tbody tr th {\n",
       "        vertical-align: top;\n",
       "    }\n",
       "\n",
       "    .dataframe thead th {\n",
       "        text-align: right;\n",
       "    }\n",
       "</style>\n",
       "<table border=\"1\" class=\"dataframe\">\n",
       "  <thead>\n",
       "    <tr style=\"text-align: right;\">\n",
       "      <th></th>\n",
       "      <th>id</th>\n",
       "      <th>html</th>\n",
       "    </tr>\n",
       "  </thead>\n",
       "  <tbody>\n",
       "    <tr>\n",
       "      <th>0</th>\n",
       "      <td>0</td>\n",
       "      <td>Bauchspeicheldrüse | Klinik für Allgemein-, Vi...</td>\n",
       "    </tr>\n",
       "    <tr>\n",
       "      <th>1</th>\n",
       "      <td>1</td>\n",
       "      <td>Elbe-Elster Klinikum - Chirurgie Finsterwalde ...</td>\n",
       "    </tr>\n",
       "    <tr>\n",
       "      <th>2</th>\n",
       "      <td>2</td>\n",
       "      <td>Chirurgie der Bauchspeicheldrüse (Pankreaschir...</td>\n",
       "    </tr>\n",
       "    <tr>\n",
       "      <th>3</th>\n",
       "      <td>3</td>\n",
       "      <td>Onkologisches Zentrum - Klinikum Bayreuth Aktu...</td>\n",
       "    </tr>\n",
       "    <tr>\n",
       "      <th>4</th>\n",
       "      <td>4</td>\n",
       "      <td>Zentrum - Sozialpädiatrisches Zentrum - Städti...</td>\n",
       "    </tr>\n",
       "    <tr>\n",
       "      <th>...</th>\n",
       "      <td>...</td>\n",
       "      <td>...</td>\n",
       "    </tr>\n",
       "    <tr>\n",
       "      <th>142</th>\n",
       "      <td>142</td>\n",
       "      <td>Tumorboard des Lungenkrebszentrums Möglicherwe...</td>\n",
       "    </tr>\n",
       "    <tr>\n",
       "      <th>143</th>\n",
       "      <td>143</td>\n",
       "      <td>Oberarzt (m/w/d) für die HNO-Klinik A- A A+ No...</td>\n",
       "    </tr>\n",
       "    <tr>\n",
       "      <th>144</th>\n",
       "      <td>144</td>\n",
       "      <td>Für Ärzte | Vivantes JavaScript scheint in Ihr...</td>\n",
       "    </tr>\n",
       "    <tr>\n",
       "      <th>145</th>\n",
       "      <td>145</td>\n",
       "      <td>Innere Medizin – Hämatologie, Onkologie und Pa...</td>\n",
       "    </tr>\n",
       "    <tr>\n",
       "      <th>146</th>\n",
       "      <td>146</td>\n",
       "      <td>Versorgung von Krebspatienten stärken | St. Wa...</td>\n",
       "    </tr>\n",
       "  </tbody>\n",
       "</table>\n",
       "<p>147 rows × 2 columns</p>\n",
       "</div>"
      ],
      "text/plain": [
       "      id                                               html\n",
       "0      0  Bauchspeicheldrüse | Klinik für Allgemein-, Vi...\n",
       "1      1  Elbe-Elster Klinikum - Chirurgie Finsterwalde ...\n",
       "2      2  Chirurgie der Bauchspeicheldrüse (Pankreaschir...\n",
       "3      3  Onkologisches Zentrum - Klinikum Bayreuth Aktu...\n",
       "4      4  Zentrum - Sozialpädiatrisches Zentrum - Städti...\n",
       "..   ...                                                ...\n",
       "142  142  Tumorboard des Lungenkrebszentrums Möglicherwe...\n",
       "143  143  Oberarzt (m/w/d) für die HNO-Klinik A- A A+ No...\n",
       "144  144  Für Ärzte | Vivantes JavaScript scheint in Ihr...\n",
       "145  145  Innere Medizin – Hämatologie, Onkologie und Pa...\n",
       "146  146  Versorgung von Krebspatienten stärken | St. Wa...\n",
       "\n",
       "[147 rows x 2 columns]"
      ]
     },
     "execution_count": 4,
     "metadata": {},
     "output_type": "execute_result"
    }
   ],
   "source": [
    "htmldt"
   ]
  },
  {
   "cell_type": "markdown",
   "metadata": {},
   "source": [
    "### (2) LLM based Classification"
   ]
  },
  {
   "cell_type": "code",
   "execution_count": 5,
   "metadata": {},
   "outputs": [
    {
     "name": "stderr",
     "output_type": "stream",
     "text": [
      "Some weights of the model checkpoint at deepset/xlm-roberta-large-squad2 were not used when initializing XLMRobertaForQuestionAnswering: ['roberta.pooler.dense.bias', 'roberta.pooler.dense.weight']\n",
      "- This IS expected if you are initializing XLMRobertaForQuestionAnswering from the checkpoint of a model trained on another task or with another architecture (e.g. initializing a BertForSequenceClassification model from a BertForPreTraining model).\n",
      "- This IS NOT expected if you are initializing XLMRobertaForQuestionAnswering from the checkpoint of a model that you expect to be exactly identical (initializing a BertForSequenceClassification model from a BertForSequenceClassification model).\n",
      "Device set to use cpu\n"
     ]
    }
   ],
   "source": [
    "pipe = pipeline(\"question-answering\", model=\"deepset/xlm-roberta-large-squad2\")"
   ]
  },
  {
   "cell_type": "code",
   "execution_count": 10,
   "metadata": {},
   "outputs": [
    {
     "data": {
      "text/plain": [
       "{'score': 2.5765925215637253e-07,\n",
       " 'start': 26,\n",
       " 'end': 57,\n",
       " 'answer': ' Jason does not agree with him.'}"
      ]
     },
     "execution_count": 10,
     "metadata": {},
     "output_type": "execute_result"
    }
   ],
   "source": [
    "QA_Input = {\n",
    "    \"question\": \"How many persons like this movie?\",\n",
    "    \"context\": \"Tommy hate this movie, but Jason does not agree with him.\",\n",
    "}\n",
    "res = pipe(QA_Input)\n",
    "res\n"
   ]
  }
 ],
 "metadata": {
  "kernelspec": {
   "display_name": "Python 3",
   "language": "python",
   "name": "python3"
  },
  "language_info": {
   "codemirror_mode": {
    "name": "ipython",
    "version": 3
   },
   "file_extension": ".py",
   "mimetype": "text/x-python",
   "name": "python",
   "nbconvert_exporter": "python",
   "pygments_lexer": "ipython3",
   "version": "3.12.5"
  }
 },
 "nbformat": 4,
 "nbformat_minor": 2
}
